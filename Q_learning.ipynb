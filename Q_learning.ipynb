{
  "cells": [
    {
      "cell_type": "code",
      "source": [
        "import numpy as np\n",
        "#Pylab is a package that provides a set of utilities and interfaces to process laboratory data\n",
        "import pylab as plt\n",
        "#Networkx a package to support creating network graphs\n",
        "import networkx as nx\n",
        "\n",
        "#To install them run\n",
        "#pip install numpy\n",
        "#pip install pylab\n",
        "#pip install networkx"
      ],
      "metadata": {
        "id": "9N2IKqzKExHt"
      },
      "execution_count": 19,
      "outputs": []
    },
    {
      "cell_type": "code",
      "source": [
        "# map cell to cell, add circular cell to goal point\n",
        "points_list = [(0,1),(1,0),(4,1),(4,5),(3,1),(3,2),(3,5),(2,3),(1,3),(1,4),(5,3),(5,4),(5,5)]\n",
        "\n",
        "#setting the goal\n",
        "goal = 5"
      ],
      "metadata": {
        "id": "anyN6WFLE0Vc"
      },
      "execution_count": 10,
      "outputs": []
    },
    {
      "cell_type": "code",
      "source": [
        "# generate the network from the points list\n",
        "G=nx.Graph()\n",
        "G.add_edges_from(points_list)\n",
        "pos = nx.spring_layout(G)\n",
        "nx.draw_networkx_nodes(G,pos)\n",
        "nx.draw_networkx_edges(G,pos)\n",
        "nx.draw_networkx_labels(G,pos)\n",
        "plt.show()"
      ],
      "metadata": {
        "colab": {
          "base_uri": "https://localhost:8080/",
          "height": 406
        },
        "id": "o8S9looyE2wz",
        "outputId": "15faf3b6-113e-46da-f33e-1e6fadf18502"
      },
      "execution_count": 11,
      "outputs": [
        {
          "output_type": "display_data",
          "data": {
            "text/plain": [
              "<Figure size 640x480 with 1 Axes>"
            ],
            "image/png": "[encoded data removed]"
          },
          "metadata": {}
        }
      ]
    },
    {
      "cell_type": "code",
      "source": [
        "#1. Set the gamma parameter, and environment rewards in matrix R.\n",
        "# set the learning rate (gamma)\n",
        "gamma = 0.8\n",
        "\n",
        "#initialize the reward matrix X\n",
        "MATRIX_SIZE = 6\n",
        "R = np.matrix(np.ones(shape=(MATRIX_SIZE, MATRIX_SIZE)))\n",
        "R *= -1\n",
        "\n",
        "#change the values to be 0 if it is a viable path and 100 if it is a goal path\n",
        "for point in points_list:\n",
        "    if point[1] == goal:\n",
        "        R[point] = 100\n",
        "    else:\n",
        "        R[point] = 0\n",
        "\n",
        "print(R)"
      ],
      "metadata": {
        "colab": {
          "base_uri": "https://localhost:8080/"
        },
        "id": "asgxolU4E4eN",
        "outputId": "279a1544-19f6-4f1e-e71a-9bf26bceccc8"
      },
      "execution_count": 12,
      "outputs": [
        {
          "output_type": "stream",
          "name": "stdout",
          "text": [
            "[[ -1.   0.  -1.  -1.  -1.  -1.]\n",
            " [  0.  -1.  -1.   0.   0.  -1.]\n",
            " [ -1.  -1.  -1.   0.  -1.  -1.]\n",
            " [ -1.   0.   0.  -1.  -1. 100.]\n",
            " [ -1.   0.  -1.  -1.  -1. 100.]\n",
            " [ -1.  -1.  -1.   0.   0. 100.]]\n"
          ]
        }
      ]
    },
    {
      "cell_type": "code",
      "source": [
        "# 2. Initialize matrix Q to zero.\n",
        "Q = np.matrix(np.zeros([MATRIX_SIZE,MATRIX_SIZE]))\n",
        "print(Q)"
      ],
      "metadata": {
        "colab": {
          "base_uri": "https://localhost:8080/"
        },
        "id": "6KplEwNjE6tM",
        "outputId": "88365130-124e-47a9-95ac-bfb69b44f9e9"
      },
      "execution_count": 17,
      "outputs": [
        {
          "output_type": "stream",
          "name": "stdout",
          "text": [
            "[[0. 0. 0. 0. 0. 0.]\n",
            " [0. 0. 0. 0. 0. 0.]\n",
            " [0. 0. 0. 0. 0. 0.]\n",
            " [0. 0. 0. 0. 0. 0.]\n",
            " [0. 0. 0. 0. 0. 0.]\n",
            " [0. 0. 0. 0. 0. 0.]]\n"
          ]
        }
      ]
    },
    {
      "cell_type": "code",
      "source": [
        "#creating some helper functions\n",
        "\n",
        "# available_actions returns the possible movements from a given point\n",
        "def available_actions(state):\n",
        "    current_state_row = R[state,]\n",
        "    av_act = np.where(current_state_row >= 0)[1]\n",
        "    return av_act\n",
        "\n",
        "# sample_next_action chooses randomly the next move based on the list of possible moves\n",
        "def sample_next_action(available_actions_range):\n",
        "    next_action = int(np.random.choice(available_act,1))\n",
        "    return next_action\n",
        "\n",
        "#update updates the current state with the next move, updating the Q-learning matrix in the process\n",
        "# Q(state, action) = R(state, action) + Gamma * Max[Q(next state, all actions)]\n",
        "def update(current_state, action, gamma):\n",
        "    max_index = np.where(Q[action,] == np.max(Q[action,]))[1]\n",
        "\n",
        "    if max_index.shape[0] > 1:\n",
        "        max_index = int(np.random.choice(max_index, size = 1))\n",
        "    else:\n",
        "        max_index = int(max_index)\n",
        "    max_value = Q[action, max_index]\n",
        "\n",
        "    Q[current_state, action] = R[current_state, action] + gamma * max_value\n",
        "#     print('max_value', R[current_state, action] + gamma * max_value)\n",
        "\n",
        "    if (np.max(Q) > 0):\n",
        "        return(np.sum(Q/np.max(Q)*100))\n",
        "    else:\n",
        "        return (0)"
      ],
      "metadata": {
        "id": "0sgebtSZE9DH"
      },
      "execution_count": 14,
      "outputs": []
    },
    {
      "cell_type": "code",
      "source": [
        "episodes = 700\n",
        "scores = []\n",
        "for i in range(episodes):\n",
        "    current_state = np.random.randint(0, int(Q.shape[0]))\n",
        "    available_act = available_actions(current_state)\n",
        "    action = sample_next_action(available_act)\n",
        "    score = update(current_state,action,gamma)\n",
        "    scores.append(score)\n",
        "\n",
        "\n",
        "print(\"Trained Q matrix:\")\n",
        "#Lets normalize Q (i.e.; converte into percentage) by dividing all non-zero entries by the highest number\n",
        "print(Q/np.max(Q)*100)\n",
        "\n",
        "#check the learning progress\n",
        "plt.plot(scores)\n",
        "plt.show()"
      ],
      "metadata": {
        "colab": {
          "base_uri": "https://localhost:8080/",
          "height": 662
        },
        "id": "z0bOz2SsE_yb",
        "outputId": "81f215d8-7785-45e9-b791-5266ba2db5fd"
      },
      "execution_count": 15,
      "outputs": [
        {
          "output_type": "stream",
          "name": "stdout",
          "text": [
            "Trained Q matrix:\n",
            "[[  0.          63.97562927   0.           0.           0.\n",
            "    0.        ]\n",
            " [ 51.18050341   0.           0.          79.96953658  79.95393033\n",
            "    0.        ]\n",
            " [  0.           0.           0.          79.96953658   0.\n",
            "    0.        ]\n",
            " [  0.          63.97562927  63.9036454    0.           0.\n",
            "   99.96192073]\n",
            " [  0.          63.947538     0.           0.           0.\n",
            "  100.        ]\n",
            " [  0.           0.           0.          79.96953658  79.95393033\n",
            "  100.        ]]\n"
          ]
        },
        {
          "output_type": "display_data",
          "data": {
            "text/plain": [
              "<Figure size 640x480 with 1 Axes>"
            ],
            "image/png": "[encoded data removed]"
          },
          "metadata": {}
        }
      ]
    },
    {
      "cell_type": "code",
      "source": [
        "initial_state =2\n",
        "current_state = initial_state\n",
        "steps = [current_state]\n",
        "\n",
        "while current_state != goal:\n",
        "\n",
        "    next_step_index = np.where(Q[current_state,]\n",
        "        == np.max(Q[current_state,]))[1]\n",
        "\n",
        "    if next_step_index.shape[0] > 1:\n",
        "        next_step_index = int(np.random.choice(next_step_index, size = 1))\n",
        "    else:\n",
        "        next_step_index = int(next_step_index)\n",
        "\n",
        "    steps.append(next_step_index)\n",
        "    current_state = next_step_index\n",
        "\n",
        "print(\"Most efficient path:\")\n",
        "print(steps)"
      ],
      "metadata": {
        "colab": {
          "base_uri": "https://localhost:8080/"
        },
        "id": "LKAs21OPFCfH",
        "outputId": "7dfb21c7-027f-4e47-db19-84745062510a"
      },
      "execution_count": 16,
      "outputs": [
        {
          "output_type": "stream",
          "name": "stdout",
          "text": [
            "Most efficient path:\n",
            "[2, 3, 5]\n"
          ]
        }
      ]
    }
  ],
  "metadata": {
    "kernelspec": {
      "display_name": "Python 3",
      "language": "python",
      "name": "python3"
    },
    "language_info": {
      "codemirror_mode": {
        "name": "ipython",
        "version": 3
      },
      "file_extension": ".py",
      "mimetype": "text/x-python",
      "name": "python",
      "nbconvert_exporter": "python",
      "pygments_lexer": "ipython3",
      "version": "3.6.7"
    },
    "latex_envs": {
      "LaTeX_envs_menu_present": true,
      "autoclose": false,
      "autocomplete": true,
      "bibliofile": "biblio.bib",
      "cite_by": "apalike",
      "current_citInitial": 1,
      "eqLabelWithNumbers": true,
      "eqNumInitial": 1,
      "hotkeys": {
        "equation": "Ctrl-E",
        "itemize": "Ctrl-I"
      },
      "labels_anchors": false,
      "latex_user_defs": false,
      "report_style_numbering": false,
      "user_envs_cfg": false
    },
    "toc": {
      "base_numbering": 1,
      "nav_menu": {},
      "number_sections": true,
      "sideBar": true,
      "skip_h1_title": false,
      "title_cell": "Table of Contents",
      "title_sidebar": "Contents",
      "toc_cell": false,
      "toc_position": {},
      "toc_section_display": true,
      "toc_window_display": false
    },
    "varInspector": {
      "cols": {
        "lenName": 16,
        "lenType": 16,
        "lenVar": 40
      },
      "kernels_config": {
        "python": {
          "delete_cmd_postfix": "",
          "delete_cmd_prefix": "del ",
          "library": "var_list.py",
          "varRefreshCmd": "print(var_dic_list())"
        },
        "r": {
          "delete_cmd_postfix": ") ",
          "delete_cmd_prefix": "rm(",
          "library": "var_list.r",
          "varRefreshCmd": "cat(var_dic_list()) "
        }
      },
      "types_to_exclude": [
        "module",
        "function",
        "builtin_function_or_method",
        "instance",
        "_Feature"
      ],
      "window_display": false
    },
    "colab": {
      "provenance": []
    }
  },
  "nbformat": 4,
  "nbformat_minor": 0
}